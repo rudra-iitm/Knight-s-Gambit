{
  "cells": [
    {
      "cell_type": "code",
      "execution_count": 53,
      "metadata": {
        "colab": {
          "base_uri": "https://localhost:8080/"
        },
        "id": "PrPplw_WZDpv",
        "outputId": "a195addc-b730-4d28-9ee5-afa30d3d1329"
      },
      "outputs": [
        {
          "name": "stdout",
          "output_type": "stream",
          "text": [
            "Defaulting to user installation because normal site-packages is not writeable\n",
            "Requirement already satisfied: chess in /Users/rudra/Library/Python/3.9/lib/python/site-packages (1.10.0)\n",
            "Note: you may need to restart the kernel to use updated packages.\n",
            "ERROR: unknown command \"installl\" - maybe you meant \"install\"\n",
            "Note: you may need to restart the kernel to use updated packages.\n"
          ]
        }
      ],
      "source": [
        "%pip install chess\n",
        "%pip installl tensorflow"
      ]
    },
    {
      "cell_type": "code",
      "execution_count": 1,
      "metadata": {},
      "outputs": [
        {
          "name": "stdout",
          "output_type": "stream",
          "text": [
            "Download and decompression complete.\n"
          ]
        }
      ],
      "source": [
        "import requests\n",
        "import gzip\n",
        "import shutil\n",
        "\n",
        "url = \"https://storage.googleapis.com/chesspic/datasets/2021-07-31-lichess-evaluations-37MM.db.gz\"\n",
        "local_filename = \"2021-07-31-lichess-evaluations-37MM.db.gz\"\n",
        "\n",
        "with requests.get(url, stream=True) as r:\n",
        "    with open(local_filename, 'wb') as f:\n",
        "        shutil.copyfileobj(r.raw, f)\n",
        "\n",
        "with gzip.open(local_filename, 'rb') as f_in:\n",
        "    with open(\"2021-07-31-lichess-evaluations-37MM.db\", 'wb') as f_out:\n",
        "        shutil.copyfileobj(f_in, f_out)\n",
        "\n",
        "print(\"Download and decompression complete.\")"
      ]
    },
    {
      "cell_type": "code",
      "execution_count": 55,
      "metadata": {},
      "outputs": [
        {
          "name": "stdout",
          "output_type": "stream",
          "text": [
            "Defaulting to user installation because normal site-packages is not writeable\n",
            "Requirement already satisfied: peewee in /Users/rudra/Library/Python/3.9/lib/python/site-packages (3.17.5)\n",
            "Note: you may need to restart the kernel to use updated packages.\n",
            "Defaulting to user installation because normal site-packages is not writeable\n",
            "Requirement already satisfied: scikit-learn in /Users/rudra/Library/Python/3.9/lib/python/site-packages (1.5.0)\n",
            "Requirement already satisfied: numpy>=1.19.5 in /Users/rudra/Library/Python/3.9/lib/python/site-packages (from scikit-learn) (1.26.4)\n",
            "Requirement already satisfied: scipy>=1.6.0 in /Users/rudra/Library/Python/3.9/lib/python/site-packages (from scikit-learn) (1.13.0)\n",
            "Requirement already satisfied: joblib>=1.2.0 in /Users/rudra/Library/Python/3.9/lib/python/site-packages (from scikit-learn) (1.4.2)\n",
            "Requirement already satisfied: threadpoolctl>=3.1.0 in /Users/rudra/Library/Python/3.9/lib/python/site-packages (from scikit-learn) (3.5.0)\n",
            "Note: you may need to restart the kernel to use updated packages.\n",
            "Dataset saved successfully.\n"
          ]
        },
        {
          "data": {
            "text/plain": [
              "True"
            ]
          },
          "execution_count": 55,
          "metadata": {},
          "output_type": "execute_result"
        }
      ],
      "source": [
        "%pip install peewee\n",
        "%pip install scikit-learn\n",
        "import base64\n",
        "import chess\n",
        "import numpy as np\n",
        "from peewee import Model, IntegerField, TextField, BlobField, FloatField, SqliteDatabase\n",
        "from sklearn.model_selection import train_test_split\n",
        "\n",
        "db = SqliteDatabase('2021-07-31-lichess-evaluations-37MM.db')\n",
        "class Evaluations(Model):\n",
        "    id = IntegerField()\n",
        "    fen = TextField()\n",
        "    binary = BlobField()\n",
        "    eval = FloatField()\n",
        "\n",
        "    class Meta:\n",
        "        database = db\n",
        "\n",
        "    def binary_base64(self):\n",
        "        return base64.b64encode(self.binary)\n",
        "\n",
        "# Connect to the database\n",
        "db.connect()\n",
        "\n",
        "# Function to fetch all data from the database\n",
        "\n",
        "def split_dims(board):\n",
        "    board3d = np.zeros((14, 8, 8), dtype=np.int8)\n",
        "\n",
        "    for piece in chess.PIECE_TYPES:\n",
        "        for square in board.pieces(piece, chess.WHITE):\n",
        "            idx = np.unravel_index(square, (8, 8))\n",
        "            board3d[piece - 1][7 - idx[0]][idx[1]] = 1\n",
        "        for square in board.pieces(piece, chess.BLACK):\n",
        "            idx = np.unravel_index(square, (8, 8))\n",
        "            board3d[piece + 5][7 - idx[0]][idx[1]] = 1\n",
        "\n",
        "    return board3d\n",
        "\n",
        "# def fetch_all_data():\n",
        "#     boards = []\n",
        "#     evaluations = []\n",
        "\n",
        "#     for evaluation in Evaluations.select():\n",
        "#         board = chess.Board(evaluation.fen)\n",
        "#         board_3d = split_dims(board)\n",
        "#         # Normalize the evaluation score\n",
        "#         eval = max(evaluation.eval, -15)\n",
        "#         eval = min(eval, 15)\n",
        "\n",
        "#         boards.append(board_3d)\n",
        "#         evaluations.append(eval)\n",
        "\n",
        "#     return np.array(boards), np.array(evaluations)\n",
        "\n",
        "# Fetch data from the database\n",
        "# x_train, y_train = fetch_all_data()\n",
        "\n",
        "# Function to fetch the first ten data points from the database\n",
        "def fetch_first_ten_data():\n",
        "    boards = []\n",
        "    evaluations = []\n",
        "\n",
        "    query = Evaluations.select().limit(100000)\n",
        "    for evaluation in query:\n",
        "        # Parse FEN string to chess board\n",
        "        board = chess.Board(evaluation.fen)\n",
        "        board_3d = split_dims(board)\n",
        "\n",
        "        # Normalize the evaluation score\n",
        "        eval = max(evaluation.eval, -15)\n",
        "        eval = min(eval, 15)\n",
        "\n",
        "        boards.append(board_3d)\n",
        "        evaluations.append(eval)\n",
        "\n",
        "    return np.array(boards), np.array(evaluations)\n",
        "\n",
        "x_data, y_data = fetch_first_ten_data()\n",
        "\n",
        "# Split data into training and test sets\n",
        "x_train, x_test, y_train, y_test = train_test_split(x_data, y_data, test_size=0.2, random_state=42)\n",
        "\n",
        "np.savez('random_dataset.npz', b=x_train, v=y_train, allow_pickle=True)\n",
        "\n",
        "print(\"Dataset saved successfully.\")\n",
        "\n",
        "# Close the database connection\n",
        "db.close()\n"
      ]
    },
    {
      "cell_type": "code",
      "execution_count": 56,
      "metadata": {
        "id": "wgwy_g7VZlpp"
      },
      "outputs": [],
      "source": [
        "import chess\n",
        "import chess.engine\n",
        "import random\n",
        "import numpy\n",
        "import tensorflow  # type: ignore"
      ]
    },
    {
      "cell_type": "code",
      "execution_count": 57,
      "metadata": {
        "id": "hLWUunVPZpyu"
      },
      "outputs": [],
      "source": [
        "def random_board(max_depth=200):\n",
        "  board = chess.Board()\n",
        "  depth = random.randrange(0, max_depth)\n",
        "\n",
        "  for _ in range(depth):\n",
        "    all_moves = list(board.legal_moves)\n",
        "    random_move = random.choice(all_moves)\n",
        "    board.push(random_move)\n",
        "    if board.is_game_over():\n",
        "      break\n",
        "\n",
        "  return board\n",
        "\n",
        "\n",
        "# this function will create our f(x) (score)\n",
        "def stockfish(board, depth):\n",
        "    with chess.engine.SimpleEngine.popen_uci('./stockfish') as sf:\n",
        "        result = sf.analyse(board, chess.engine.Limit(depth=depth))\n",
        "        score = result['score'].white().score()\n",
        "        return score if score is not None else 0"
      ]
    },
    {
      "cell_type": "code",
      "execution_count": 58,
      "metadata": {
        "colab": {
          "base_uri": "https://localhost:8080/",
          "height": 411
        },
        "id": "nsjIVROZo47S",
        "outputId": "40e0eb1c-f396-453d-a600-952204d398a1"
      },
      "outputs": [
        {
          "data": {
            "text/plain": [
              "-459"
            ]
          },
          "execution_count": 58,
          "metadata": {},
          "output_type": "execute_result"
        }
      ],
      "source": [
        "board = random_board()\n",
        "board\n",
        "stockfish(board, 10)"
      ]
    },
    {
      "cell_type": "code",
      "execution_count": 59,
      "metadata": {
        "id": "EpVRV9r3pW_5"
      },
      "outputs": [],
      "source": [
        "squares_index = {\n",
        "  'a': 0,\n",
        "  'b': 1,\n",
        "  'c': 2,\n",
        "  'd': 3,\n",
        "  'e': 4,\n",
        "  'f': 5,\n",
        "  'g': 6,\n",
        "  'h': 7\n",
        "}\n",
        "\n",
        "\n",
        "# example: h3 -> 17\n",
        "def square_to_index(square):\n",
        "  letter = chess.square_name(square)\n",
        "  return 8 - int(letter[1]), squares_index[letter[0]]\n",
        "\n",
        "\n",
        "def split_dims(board):\n",
        "  # this is the 3d matrix\n",
        "  board3d = numpy.zeros((14, 8, 8), dtype=numpy.int8)\n",
        "\n",
        "  # here we add the pieces's view on the matrix\n",
        "  for piece in chess.PIECE_TYPES:\n",
        "    for square in board.pieces(piece, chess.WHITE):\n",
        "      idx = numpy.unravel_index(square, (8, 8))\n",
        "      board3d[piece - 1][7 - idx[0]][idx[1]] = 1\n",
        "    for square in board.pieces(piece, chess.BLACK):\n",
        "      idx = numpy.unravel_index(square, (8, 8))\n",
        "      board3d[piece + 5][7 - idx[0]][idx[1]] = 1\n",
        "\n",
        "  # add attacks and valid moves too\n",
        "  # so the network knows what is being attacked\n",
        "  aux = board.turn\n",
        "  board.turn = chess.WHITE\n",
        "  for move in board.legal_moves:\n",
        "      i, j = square_to_index(move.to_square)\n",
        "      board3d[12][i][j] = 1\n",
        "  board.turn = chess.BLACK\n",
        "  for move in board.legal_moves:\n",
        "      i, j = square_to_index(move.to_square)\n",
        "      board3d[13][i][j] = 1\n",
        "  board.turn = aux\n",
        "\n",
        "  return board3d"
      ]
    },
    {
      "cell_type": "code",
      "execution_count": 60,
      "metadata": {
        "colab": {
          "base_uri": "https://localhost:8080/"
        },
        "id": "3q07skJf4Pyt",
        "outputId": "31a28b45-112f-4227-889f-4286ea5aea4a"
      },
      "outputs": [],
      "source": [
        "# # Function to generate random chess boards and evaluations\n",
        "# def generate_data(num_samples=1000):\n",
        "#     boards = []\n",
        "#     evaluations = []\n",
        "\n",
        "#     for _ in range(num_samples):\n",
        "#         board = random_board()\n",
        "#         evaluation = stockfish(board, 10) / 1000.0  # Normalize evaluation score\n",
        "#         if evaluation is not None:\n",
        "#             boards.append(split_dims(board))\n",
        "#             evaluations.append(evaluation)\n",
        "\n",
        "#     return numpy.array(boards), numpy.array(evaluations)\n",
        "\n",
        "# # Function to save the dataset into an .npz file\n",
        "# def save_dataset(filename, boards, evaluations):\n",
        "#     numpy.savez(filename, b=boards, v=evaluations, allow_pickle=True)\n",
        "\n",
        "# # Generate data\n",
        "# x_train, y_train = generate_data(num_samples=10)\n",
        "# print( y_train)\n",
        "\n",
        "# # Save the dataset into an .numpyz file\n",
        "# save_dataset('random_dataset.npz', x_train, y_train)\n",
        "\n",
        "# print(\"Dataset saved successfully.\")"
      ]
    },
    {
      "cell_type": "code",
      "execution_count": 61,
      "metadata": {
        "id": "xpcB9_CisTiQ"
      },
      "outputs": [],
      "source": [
        "import numpy as np\n",
        "import tensorflow as tf\n",
        "from tensorflow.keras import layers, models\n",
        "from tensorflow.keras.callbacks import ReduceLROnPlateau, EarlyStopping, ModelCheckpoint\n",
        "from sklearn.model_selection import train_test_split\n",
        "\n",
        "def build_model(conv_size, conv_depth):\n",
        "    board3d = layers.Input(shape=(14, 8, 8))\n",
        "    x = board3d\n",
        "    for _ in range(conv_depth):\n",
        "        x = layers.Conv2D(filters=conv_size, kernel_size=3, padding='same')(x)\n",
        "        x = layers.BatchNormalization()(x)\n",
        "        x = layers.Activation('relu')(x)\n",
        "    x = layers.Flatten()(x)\n",
        "    x = layers.Dense(64, activation='relu')(x)\n",
        "    x = layers.Dense(1, activation='tanh')(x)\n",
        "    return models.Model(inputs=board3d, outputs=x)"
      ]
    },
    {
      "cell_type": "code",
      "execution_count": 89,
      "metadata": {
        "id": "pHA2-HJTsm0I"
      },
      "outputs": [],
      "source": [
        "def build_model_residual(conv_size, conv_depth):\n",
        "    board3d = layers.Input(shape=(14, 8, 8))\n",
        "\n",
        "    # Initial Convolutional Layer\n",
        "    x = layers.Conv2D(filters=conv_size, kernel_size=3, padding='same')(board3d)\n",
        "    x = layers.BatchNormalization()(x)\n",
        "    x = layers.Activation('relu')(x)\n",
        "\n",
        "    # Adding Residual Blocks\n",
        "    for _ in range(conv_depth):\n",
        "        previous = x\n",
        "        x = layers.Conv2D(filters=conv_size, kernel_size=3, padding='same')(x)\n",
        "        x = layers.BatchNormalization()(x)\n",
        "        x = layers.Activation('relu')(x)\n",
        "        x = layers.Conv2D(filters=conv_size, kernel_size=3, padding='same')(x)\n",
        "        x = layers.BatchNormalization()(x)\n",
        "        x = layers.Add()([x, previous])\n",
        "        x = layers.Activation('relu')(x)\n",
        "\n",
        "    # Fully Connected Layers\n",
        "    x = layers.Flatten()(x)\n",
        "    x = layers.Dense(64, activation='relu')(x)\n",
        "    x = layers.Dense(1, activation='tanh')(x)\n",
        "\n",
        "    return models.Model(inputs=board3d, outputs=x)"
      ]
    },
    {
      "cell_type": "code",
      "execution_count": 90,
      "metadata": {
        "id": "zZUDdckosn-K"
      },
      "outputs": [],
      "source": [
        "model = build_model(32, 4)"
      ]
    },
    {
      "cell_type": "code",
      "execution_count": 91,
      "metadata": {
        "colab": {
          "base_uri": "https://localhost:8080/"
        },
        "id": "4pPjRx-nssGS",
        "outputId": "b2608fff-56a4-471e-9079-ce22f82e3ff5"
      },
      "outputs": [
        {
          "name": "stdout",
          "output_type": "stream",
          "text": [
            "(80000, 14, 8, 8)\n",
            "(80000,)\n"
          ]
        }
      ],
      "source": [
        "import tensorflow.keras.callbacks as callbacks\n",
        "\n",
        "def get_dataset():\n",
        "    container = numpy.load('random_dataset.npz', allow_pickle=True)\n",
        "    b, v = container.get('b'), container.get('v')\n",
        "    v = numpy.array(v) \n",
        "    v = numpy.where(v == None, 0, v)\n",
        "    v = numpy.asarray(v / abs(v).max() / 2 + 0.5, dtype=numpy.float32) # normalization (0 - 1)\n",
        "    return b, v\n",
        "\n",
        "\n",
        "x_train, y_train = get_dataset()\n",
        "x_train.transpose()\n",
        "print(x_train.shape)\n",
        "print(y_train.shape)"
      ]
    },
    {
      "cell_type": "code",
      "execution_count": 92,
      "metadata": {
        "id": "7H7bbIQlsv57"
      },
      "outputs": [
        {
          "name": "stdout",
          "output_type": "stream",
          "text": [
            "Epoch 1/1000\n",
            "\u001b[1m625/625\u001b[0m \u001b[32m━━━━━━━━━━━━━━━━━━━━\u001b[0m\u001b[37m\u001b[0m \u001b[1m160s\u001b[0m 251ms/step - loss: 0.1491 - mean_absolute_error: 0.4950 - val_loss: 4.3232 - val_mean_absolute_error: 4.7876 - learning_rate: 1.0000e-04\n",
            "Epoch 2/1000\n",
            "\u001b[1m625/625\u001b[0m \u001b[32m━━━━━━━━━━━━━━━━━━━━\u001b[0m\u001b[37m\u001b[0m \u001b[1m177s\u001b[0m 283ms/step - loss: 0.1460 - mean_absolute_error: 0.4913 - val_loss: 4.3232 - val_mean_absolute_error: 4.7876 - learning_rate: 1.0000e-04\n",
            "Epoch 3/1000\n",
            "\u001b[1m224/625\u001b[0m \u001b[32m━━━━━━━\u001b[0m\u001b[37m━━━━━━━━━━━━━\u001b[0m \u001b[1m1:45\u001b[0m 262ms/step - loss: 0.1477 - mean_absolute_error: 0.4940"
          ]
        },
        {
          "ename": "KeyboardInterrupt",
          "evalue": "",
          "output_type": "error",
          "traceback": [
            "\u001b[0;31m---------------------------------------------------------------------------\u001b[0m",
            "\u001b[0;31mKeyboardInterrupt\u001b[0m                         Traceback (most recent call last)",
            "Cell \u001b[0;32mIn[92], line 12\u001b[0m\n\u001b[1;32m      6\u001b[0m checkpoint_filepath \u001b[38;5;241m=\u001b[39m \u001b[38;5;124m'\u001b[39m\u001b[38;5;124m/tmp/checkpoint/model.keras\u001b[39m\u001b[38;5;124m'\u001b[39m\n\u001b[1;32m      7\u001b[0m model_checkpointing_callback \u001b[38;5;241m=\u001b[39m ModelCheckpoint(\n\u001b[1;32m      8\u001b[0m     filepath\u001b[38;5;241m=\u001b[39mcheckpoint_filepath,\n\u001b[1;32m      9\u001b[0m     save_best_only\u001b[38;5;241m=\u001b[39m\u001b[38;5;28;01mTrue\u001b[39;00m,\n\u001b[1;32m     10\u001b[0m )\n\u001b[0;32m---> 12\u001b[0m history \u001b[38;5;241m=\u001b[39m \u001b[43mmodel\u001b[49m\u001b[38;5;241;43m.\u001b[39;49m\u001b[43mfit\u001b[49m\u001b[43m(\u001b[49m\u001b[43mx_train\u001b[49m\u001b[43m,\u001b[49m\u001b[43m \u001b[49m\u001b[43my_train\u001b[49m\u001b[43m,\u001b[49m\n\u001b[1;32m     13\u001b[0m \u001b[43m                    \u001b[49m\u001b[43mbatch_size\u001b[49m\u001b[38;5;241;43m=\u001b[39;49m\u001b[38;5;241;43m128\u001b[39;49m\u001b[43m,\u001b[49m\u001b[43m  \u001b[49m\u001b[38;5;66;43;03m# Adjusted batch size\u001b[39;49;00m\n\u001b[1;32m     14\u001b[0m \u001b[43m                    \u001b[49m\u001b[43mepochs\u001b[49m\u001b[38;5;241;43m=\u001b[39;49m\u001b[38;5;241;43m1000\u001b[39;49m\u001b[43m,\u001b[49m\n\u001b[1;32m     15\u001b[0m \u001b[43m                    \u001b[49m\u001b[43mverbose\u001b[49m\u001b[38;5;241;43m=\u001b[39;49m\u001b[38;5;241;43m1\u001b[39;49m\u001b[43m,\u001b[49m\n\u001b[1;32m     16\u001b[0m \u001b[43m                    \u001b[49m\u001b[43mvalidation_data\u001b[49m\u001b[38;5;241;43m=\u001b[39;49m\u001b[43m(\u001b[49m\u001b[43mx_test\u001b[49m\u001b[43m,\u001b[49m\u001b[43m \u001b[49m\u001b[43my_test\u001b[49m\u001b[43m)\u001b[49m\u001b[43m,\u001b[49m\n\u001b[1;32m     17\u001b[0m \u001b[43m                    \u001b[49m\u001b[43mcallbacks\u001b[49m\u001b[38;5;241;43m=\u001b[39;49m\u001b[43m[\u001b[49m\u001b[43mReduceLROnPlateau\u001b[49m\u001b[43m(\u001b[49m\u001b[43mmonitor\u001b[49m\u001b[38;5;241;43m=\u001b[39;49m\u001b[38;5;124;43m'\u001b[39;49m\u001b[38;5;124;43mval_loss\u001b[39;49m\u001b[38;5;124;43m'\u001b[39;49m\u001b[43m,\u001b[49m\u001b[43m \u001b[49m\u001b[43mpatience\u001b[49m\u001b[38;5;241;43m=\u001b[39;49m\u001b[38;5;241;43m10\u001b[39;49m\u001b[43m)\u001b[49m\u001b[43m,\u001b[49m\n\u001b[1;32m     18\u001b[0m \u001b[43m                               \u001b[49m\u001b[43mEarlyStopping\u001b[49m\u001b[43m(\u001b[49m\u001b[43mmonitor\u001b[49m\u001b[38;5;241;43m=\u001b[39;49m\u001b[38;5;124;43m'\u001b[39;49m\u001b[38;5;124;43mval_loss\u001b[39;49m\u001b[38;5;124;43m'\u001b[39;49m\u001b[43m,\u001b[49m\u001b[43m \u001b[49m\u001b[43mpatience\u001b[49m\u001b[38;5;241;43m=\u001b[39;49m\u001b[38;5;241;43m15\u001b[39;49m\u001b[43m,\u001b[49m\u001b[43m \u001b[49m\u001b[43mmin_delta\u001b[49m\u001b[38;5;241;43m=\u001b[39;49m\u001b[38;5;241;43m1e-4\u001b[39;49m\u001b[43m)\u001b[49m\u001b[43m,\u001b[49m\n\u001b[1;32m     19\u001b[0m \u001b[43m                               \u001b[49m\u001b[43mmodel_checkpointing_callback\u001b[49m\u001b[43m]\u001b[49m\u001b[43m)\u001b[49m\n\u001b[1;32m     21\u001b[0m loss, mae \u001b[38;5;241m=\u001b[39m model\u001b[38;5;241m.\u001b[39mevaluate(x_test, y_test)\n\u001b[1;32m     22\u001b[0m \u001b[38;5;28mprint\u001b[39m(\u001b[38;5;124mf\u001b[39m\u001b[38;5;124m'\u001b[39m\u001b[38;5;124mTest Loss: \u001b[39m\u001b[38;5;132;01m{\u001b[39;00mloss\u001b[38;5;132;01m}\u001b[39;00m\u001b[38;5;124m'\u001b[39m)\n",
            "File \u001b[0;32m~/Library/Python/3.9/lib/python/site-packages/keras/src/utils/traceback_utils.py:117\u001b[0m, in \u001b[0;36mfilter_traceback.<locals>.error_handler\u001b[0;34m(*args, **kwargs)\u001b[0m\n\u001b[1;32m    115\u001b[0m filtered_tb \u001b[38;5;241m=\u001b[39m \u001b[38;5;28;01mNone\u001b[39;00m\n\u001b[1;32m    116\u001b[0m \u001b[38;5;28;01mtry\u001b[39;00m:\n\u001b[0;32m--> 117\u001b[0m     \u001b[38;5;28;01mreturn\u001b[39;00m \u001b[43mfn\u001b[49m\u001b[43m(\u001b[49m\u001b[38;5;241;43m*\u001b[39;49m\u001b[43margs\u001b[49m\u001b[43m,\u001b[49m\u001b[43m \u001b[49m\u001b[38;5;241;43m*\u001b[39;49m\u001b[38;5;241;43m*\u001b[39;49m\u001b[43mkwargs\u001b[49m\u001b[43m)\u001b[49m\n\u001b[1;32m    118\u001b[0m \u001b[38;5;28;01mexcept\u001b[39;00m \u001b[38;5;167;01mException\u001b[39;00m \u001b[38;5;28;01mas\u001b[39;00m e:\n\u001b[1;32m    119\u001b[0m     filtered_tb \u001b[38;5;241m=\u001b[39m _process_traceback_frames(e\u001b[38;5;241m.\u001b[39m__traceback__)\n",
            "File \u001b[0;32m~/Library/Python/3.9/lib/python/site-packages/keras/src/backend/tensorflow/trainer.py:314\u001b[0m, in \u001b[0;36mTensorFlowTrainer.fit\u001b[0;34m(self, x, y, batch_size, epochs, verbose, callbacks, validation_split, validation_data, shuffle, class_weight, sample_weight, initial_epoch, steps_per_epoch, validation_steps, validation_batch_size, validation_freq)\u001b[0m\n\u001b[1;32m    312\u001b[0m \u001b[38;5;28;01mfor\u001b[39;00m step, iterator \u001b[38;5;129;01min\u001b[39;00m epoch_iterator\u001b[38;5;241m.\u001b[39menumerate_epoch():\n\u001b[1;32m    313\u001b[0m     callbacks\u001b[38;5;241m.\u001b[39mon_train_batch_begin(step)\n\u001b[0;32m--> 314\u001b[0m     logs \u001b[38;5;241m=\u001b[39m \u001b[38;5;28;43mself\u001b[39;49m\u001b[38;5;241;43m.\u001b[39;49m\u001b[43mtrain_function\u001b[49m\u001b[43m(\u001b[49m\u001b[43miterator\u001b[49m\u001b[43m)\u001b[49m\n\u001b[1;32m    315\u001b[0m     logs \u001b[38;5;241m=\u001b[39m \u001b[38;5;28mself\u001b[39m\u001b[38;5;241m.\u001b[39m_pythonify_logs(logs)\n\u001b[1;32m    316\u001b[0m     callbacks\u001b[38;5;241m.\u001b[39mon_train_batch_end(step, logs)\n",
            "File \u001b[0;32m~/Library/Python/3.9/lib/python/site-packages/tensorflow/python/util/traceback_utils.py:150\u001b[0m, in \u001b[0;36mfilter_traceback.<locals>.error_handler\u001b[0;34m(*args, **kwargs)\u001b[0m\n\u001b[1;32m    148\u001b[0m filtered_tb \u001b[38;5;241m=\u001b[39m \u001b[38;5;28;01mNone\u001b[39;00m\n\u001b[1;32m    149\u001b[0m \u001b[38;5;28;01mtry\u001b[39;00m:\n\u001b[0;32m--> 150\u001b[0m   \u001b[38;5;28;01mreturn\u001b[39;00m \u001b[43mfn\u001b[49m\u001b[43m(\u001b[49m\u001b[38;5;241;43m*\u001b[39;49m\u001b[43margs\u001b[49m\u001b[43m,\u001b[49m\u001b[43m \u001b[49m\u001b[38;5;241;43m*\u001b[39;49m\u001b[38;5;241;43m*\u001b[39;49m\u001b[43mkwargs\u001b[49m\u001b[43m)\u001b[49m\n\u001b[1;32m    151\u001b[0m \u001b[38;5;28;01mexcept\u001b[39;00m \u001b[38;5;167;01mException\u001b[39;00m \u001b[38;5;28;01mas\u001b[39;00m e:\n\u001b[1;32m    152\u001b[0m   filtered_tb \u001b[38;5;241m=\u001b[39m _process_traceback_frames(e\u001b[38;5;241m.\u001b[39m__traceback__)\n",
            "File \u001b[0;32m~/Library/Python/3.9/lib/python/site-packages/tensorflow/python/eager/polymorphic_function/polymorphic_function.py:833\u001b[0m, in \u001b[0;36mFunction.__call__\u001b[0;34m(self, *args, **kwds)\u001b[0m\n\u001b[1;32m    830\u001b[0m compiler \u001b[38;5;241m=\u001b[39m \u001b[38;5;124m\"\u001b[39m\u001b[38;5;124mxla\u001b[39m\u001b[38;5;124m\"\u001b[39m \u001b[38;5;28;01mif\u001b[39;00m \u001b[38;5;28mself\u001b[39m\u001b[38;5;241m.\u001b[39m_jit_compile \u001b[38;5;28;01melse\u001b[39;00m \u001b[38;5;124m\"\u001b[39m\u001b[38;5;124mnonXla\u001b[39m\u001b[38;5;124m\"\u001b[39m\n\u001b[1;32m    832\u001b[0m \u001b[38;5;28;01mwith\u001b[39;00m OptionalXlaContext(\u001b[38;5;28mself\u001b[39m\u001b[38;5;241m.\u001b[39m_jit_compile):\n\u001b[0;32m--> 833\u001b[0m   result \u001b[38;5;241m=\u001b[39m \u001b[38;5;28;43mself\u001b[39;49m\u001b[38;5;241;43m.\u001b[39;49m\u001b[43m_call\u001b[49m\u001b[43m(\u001b[49m\u001b[38;5;241;43m*\u001b[39;49m\u001b[43margs\u001b[49m\u001b[43m,\u001b[49m\u001b[43m \u001b[49m\u001b[38;5;241;43m*\u001b[39;49m\u001b[38;5;241;43m*\u001b[39;49m\u001b[43mkwds\u001b[49m\u001b[43m)\u001b[49m\n\u001b[1;32m    835\u001b[0m new_tracing_count \u001b[38;5;241m=\u001b[39m \u001b[38;5;28mself\u001b[39m\u001b[38;5;241m.\u001b[39mexperimental_get_tracing_count()\n\u001b[1;32m    836\u001b[0m without_tracing \u001b[38;5;241m=\u001b[39m (tracing_count \u001b[38;5;241m==\u001b[39m new_tracing_count)\n",
            "File \u001b[0;32m~/Library/Python/3.9/lib/python/site-packages/tensorflow/python/eager/polymorphic_function/polymorphic_function.py:878\u001b[0m, in \u001b[0;36mFunction._call\u001b[0;34m(self, *args, **kwds)\u001b[0m\n\u001b[1;32m    875\u001b[0m \u001b[38;5;28mself\u001b[39m\u001b[38;5;241m.\u001b[39m_lock\u001b[38;5;241m.\u001b[39mrelease()\n\u001b[1;32m    876\u001b[0m \u001b[38;5;66;03m# In this case we have not created variables on the first call. So we can\u001b[39;00m\n\u001b[1;32m    877\u001b[0m \u001b[38;5;66;03m# run the first trace but we should fail if variables are created.\u001b[39;00m\n\u001b[0;32m--> 878\u001b[0m results \u001b[38;5;241m=\u001b[39m \u001b[43mtracing_compilation\u001b[49m\u001b[38;5;241;43m.\u001b[39;49m\u001b[43mcall_function\u001b[49m\u001b[43m(\u001b[49m\n\u001b[1;32m    879\u001b[0m \u001b[43m    \u001b[49m\u001b[43margs\u001b[49m\u001b[43m,\u001b[49m\u001b[43m \u001b[49m\u001b[43mkwds\u001b[49m\u001b[43m,\u001b[49m\u001b[43m \u001b[49m\u001b[38;5;28;43mself\u001b[39;49m\u001b[38;5;241;43m.\u001b[39;49m\u001b[43m_variable_creation_config\u001b[49m\n\u001b[1;32m    880\u001b[0m \u001b[43m\u001b[49m\u001b[43m)\u001b[49m\n\u001b[1;32m    881\u001b[0m \u001b[38;5;28;01mif\u001b[39;00m \u001b[38;5;28mself\u001b[39m\u001b[38;5;241m.\u001b[39m_created_variables:\n\u001b[1;32m    882\u001b[0m   \u001b[38;5;28;01mraise\u001b[39;00m \u001b[38;5;167;01mValueError\u001b[39;00m(\u001b[38;5;124m\"\u001b[39m\u001b[38;5;124mCreating variables on a non-first call to a function\u001b[39m\u001b[38;5;124m\"\u001b[39m\n\u001b[1;32m    883\u001b[0m                    \u001b[38;5;124m\"\u001b[39m\u001b[38;5;124m decorated with tf.function.\u001b[39m\u001b[38;5;124m\"\u001b[39m)\n",
            "File \u001b[0;32m~/Library/Python/3.9/lib/python/site-packages/tensorflow/python/eager/polymorphic_function/tracing_compilation.py:139\u001b[0m, in \u001b[0;36mcall_function\u001b[0;34m(args, kwargs, tracing_options)\u001b[0m\n\u001b[1;32m    137\u001b[0m bound_args \u001b[38;5;241m=\u001b[39m function\u001b[38;5;241m.\u001b[39mfunction_type\u001b[38;5;241m.\u001b[39mbind(\u001b[38;5;241m*\u001b[39margs, \u001b[38;5;241m*\u001b[39m\u001b[38;5;241m*\u001b[39mkwargs)\n\u001b[1;32m    138\u001b[0m flat_inputs \u001b[38;5;241m=\u001b[39m function\u001b[38;5;241m.\u001b[39mfunction_type\u001b[38;5;241m.\u001b[39munpack_inputs(bound_args)\n\u001b[0;32m--> 139\u001b[0m \u001b[38;5;28;01mreturn\u001b[39;00m \u001b[43mfunction\u001b[49m\u001b[38;5;241;43m.\u001b[39;49m\u001b[43m_call_flat\u001b[49m\u001b[43m(\u001b[49m\u001b[43m  \u001b[49m\u001b[38;5;66;43;03m# pylint: disable=protected-access\u001b[39;49;00m\n\u001b[1;32m    140\u001b[0m \u001b[43m    \u001b[49m\u001b[43mflat_inputs\u001b[49m\u001b[43m,\u001b[49m\u001b[43m \u001b[49m\u001b[43mcaptured_inputs\u001b[49m\u001b[38;5;241;43m=\u001b[39;49m\u001b[43mfunction\u001b[49m\u001b[38;5;241;43m.\u001b[39;49m\u001b[43mcaptured_inputs\u001b[49m\n\u001b[1;32m    141\u001b[0m \u001b[43m\u001b[49m\u001b[43m)\u001b[49m\n",
            "File \u001b[0;32m~/Library/Python/3.9/lib/python/site-packages/tensorflow/python/eager/polymorphic_function/concrete_function.py:1322\u001b[0m, in \u001b[0;36mConcreteFunction._call_flat\u001b[0;34m(self, tensor_inputs, captured_inputs)\u001b[0m\n\u001b[1;32m   1318\u001b[0m possible_gradient_type \u001b[38;5;241m=\u001b[39m gradients_util\u001b[38;5;241m.\u001b[39mPossibleTapeGradientTypes(args)\n\u001b[1;32m   1319\u001b[0m \u001b[38;5;28;01mif\u001b[39;00m (possible_gradient_type \u001b[38;5;241m==\u001b[39m gradients_util\u001b[38;5;241m.\u001b[39mPOSSIBLE_GRADIENT_TYPES_NONE\n\u001b[1;32m   1320\u001b[0m     \u001b[38;5;129;01mand\u001b[39;00m executing_eagerly):\n\u001b[1;32m   1321\u001b[0m   \u001b[38;5;66;03m# No tape is watching; skip to running the function.\u001b[39;00m\n\u001b[0;32m-> 1322\u001b[0m   \u001b[38;5;28;01mreturn\u001b[39;00m \u001b[38;5;28;43mself\u001b[39;49m\u001b[38;5;241;43m.\u001b[39;49m\u001b[43m_inference_function\u001b[49m\u001b[38;5;241;43m.\u001b[39;49m\u001b[43mcall_preflattened\u001b[49m\u001b[43m(\u001b[49m\u001b[43margs\u001b[49m\u001b[43m)\u001b[49m\n\u001b[1;32m   1323\u001b[0m forward_backward \u001b[38;5;241m=\u001b[39m \u001b[38;5;28mself\u001b[39m\u001b[38;5;241m.\u001b[39m_select_forward_and_backward_functions(\n\u001b[1;32m   1324\u001b[0m     args,\n\u001b[1;32m   1325\u001b[0m     possible_gradient_type,\n\u001b[1;32m   1326\u001b[0m     executing_eagerly)\n\u001b[1;32m   1327\u001b[0m forward_function, args_with_tangents \u001b[38;5;241m=\u001b[39m forward_backward\u001b[38;5;241m.\u001b[39mforward()\n",
            "File \u001b[0;32m~/Library/Python/3.9/lib/python/site-packages/tensorflow/python/eager/polymorphic_function/atomic_function.py:216\u001b[0m, in \u001b[0;36mAtomicFunction.call_preflattened\u001b[0;34m(self, args)\u001b[0m\n\u001b[1;32m    214\u001b[0m \u001b[38;5;28;01mdef\u001b[39;00m \u001b[38;5;21mcall_preflattened\u001b[39m(\u001b[38;5;28mself\u001b[39m, args: Sequence[core\u001b[38;5;241m.\u001b[39mTensor]) \u001b[38;5;241m-\u001b[39m\u001b[38;5;241m>\u001b[39m Any:\n\u001b[1;32m    215\u001b[0m \u001b[38;5;250m  \u001b[39m\u001b[38;5;124;03m\"\"\"Calls with flattened tensor inputs and returns the structured output.\"\"\"\u001b[39;00m\n\u001b[0;32m--> 216\u001b[0m   flat_outputs \u001b[38;5;241m=\u001b[39m \u001b[38;5;28;43mself\u001b[39;49m\u001b[38;5;241;43m.\u001b[39;49m\u001b[43mcall_flat\u001b[49m\u001b[43m(\u001b[49m\u001b[38;5;241;43m*\u001b[39;49m\u001b[43margs\u001b[49m\u001b[43m)\u001b[49m\n\u001b[1;32m    217\u001b[0m   \u001b[38;5;28;01mreturn\u001b[39;00m \u001b[38;5;28mself\u001b[39m\u001b[38;5;241m.\u001b[39mfunction_type\u001b[38;5;241m.\u001b[39mpack_output(flat_outputs)\n",
            "File \u001b[0;32m~/Library/Python/3.9/lib/python/site-packages/tensorflow/python/eager/polymorphic_function/atomic_function.py:251\u001b[0m, in \u001b[0;36mAtomicFunction.call_flat\u001b[0;34m(self, *args)\u001b[0m\n\u001b[1;32m    249\u001b[0m \u001b[38;5;28;01mwith\u001b[39;00m record\u001b[38;5;241m.\u001b[39mstop_recording():\n\u001b[1;32m    250\u001b[0m   \u001b[38;5;28;01mif\u001b[39;00m \u001b[38;5;28mself\u001b[39m\u001b[38;5;241m.\u001b[39m_bound_context\u001b[38;5;241m.\u001b[39mexecuting_eagerly():\n\u001b[0;32m--> 251\u001b[0m     outputs \u001b[38;5;241m=\u001b[39m \u001b[38;5;28;43mself\u001b[39;49m\u001b[38;5;241;43m.\u001b[39;49m\u001b[43m_bound_context\u001b[49m\u001b[38;5;241;43m.\u001b[39;49m\u001b[43mcall_function\u001b[49m\u001b[43m(\u001b[49m\n\u001b[1;32m    252\u001b[0m \u001b[43m        \u001b[49m\u001b[38;5;28;43mself\u001b[39;49m\u001b[38;5;241;43m.\u001b[39;49m\u001b[43mname\u001b[49m\u001b[43m,\u001b[49m\n\u001b[1;32m    253\u001b[0m \u001b[43m        \u001b[49m\u001b[38;5;28;43mlist\u001b[39;49m\u001b[43m(\u001b[49m\u001b[43margs\u001b[49m\u001b[43m)\u001b[49m\u001b[43m,\u001b[49m\n\u001b[1;32m    254\u001b[0m \u001b[43m        \u001b[49m\u001b[38;5;28;43mlen\u001b[39;49m\u001b[43m(\u001b[49m\u001b[38;5;28;43mself\u001b[39;49m\u001b[38;5;241;43m.\u001b[39;49m\u001b[43mfunction_type\u001b[49m\u001b[38;5;241;43m.\u001b[39;49m\u001b[43mflat_outputs\u001b[49m\u001b[43m)\u001b[49m\u001b[43m,\u001b[49m\n\u001b[1;32m    255\u001b[0m \u001b[43m    \u001b[49m\u001b[43m)\u001b[49m\n\u001b[1;32m    256\u001b[0m   \u001b[38;5;28;01melse\u001b[39;00m:\n\u001b[1;32m    257\u001b[0m     outputs \u001b[38;5;241m=\u001b[39m make_call_op_in_graph(\n\u001b[1;32m    258\u001b[0m         \u001b[38;5;28mself\u001b[39m,\n\u001b[1;32m    259\u001b[0m         \u001b[38;5;28mlist\u001b[39m(args),\n\u001b[1;32m    260\u001b[0m         \u001b[38;5;28mself\u001b[39m\u001b[38;5;241m.\u001b[39m_bound_context\u001b[38;5;241m.\u001b[39mfunction_call_options\u001b[38;5;241m.\u001b[39mas_attrs(),\n\u001b[1;32m    261\u001b[0m     )\n",
            "File \u001b[0;32m~/Library/Python/3.9/lib/python/site-packages/tensorflow/python/eager/context.py:1500\u001b[0m, in \u001b[0;36mContext.call_function\u001b[0;34m(self, name, tensor_inputs, num_outputs)\u001b[0m\n\u001b[1;32m   1498\u001b[0m cancellation_context \u001b[38;5;241m=\u001b[39m cancellation\u001b[38;5;241m.\u001b[39mcontext()\n\u001b[1;32m   1499\u001b[0m \u001b[38;5;28;01mif\u001b[39;00m cancellation_context \u001b[38;5;129;01mis\u001b[39;00m \u001b[38;5;28;01mNone\u001b[39;00m:\n\u001b[0;32m-> 1500\u001b[0m   outputs \u001b[38;5;241m=\u001b[39m \u001b[43mexecute\u001b[49m\u001b[38;5;241;43m.\u001b[39;49m\u001b[43mexecute\u001b[49m\u001b[43m(\u001b[49m\n\u001b[1;32m   1501\u001b[0m \u001b[43m      \u001b[49m\u001b[43mname\u001b[49m\u001b[38;5;241;43m.\u001b[39;49m\u001b[43mdecode\u001b[49m\u001b[43m(\u001b[49m\u001b[38;5;124;43m\"\u001b[39;49m\u001b[38;5;124;43mutf-8\u001b[39;49m\u001b[38;5;124;43m\"\u001b[39;49m\u001b[43m)\u001b[49m\u001b[43m,\u001b[49m\n\u001b[1;32m   1502\u001b[0m \u001b[43m      \u001b[49m\u001b[43mnum_outputs\u001b[49m\u001b[38;5;241;43m=\u001b[39;49m\u001b[43mnum_outputs\u001b[49m\u001b[43m,\u001b[49m\n\u001b[1;32m   1503\u001b[0m \u001b[43m      \u001b[49m\u001b[43minputs\u001b[49m\u001b[38;5;241;43m=\u001b[39;49m\u001b[43mtensor_inputs\u001b[49m\u001b[43m,\u001b[49m\n\u001b[1;32m   1504\u001b[0m \u001b[43m      \u001b[49m\u001b[43mattrs\u001b[49m\u001b[38;5;241;43m=\u001b[39;49m\u001b[43mattrs\u001b[49m\u001b[43m,\u001b[49m\n\u001b[1;32m   1505\u001b[0m \u001b[43m      \u001b[49m\u001b[43mctx\u001b[49m\u001b[38;5;241;43m=\u001b[39;49m\u001b[38;5;28;43mself\u001b[39;49m\u001b[43m,\u001b[49m\n\u001b[1;32m   1506\u001b[0m \u001b[43m  \u001b[49m\u001b[43m)\u001b[49m\n\u001b[1;32m   1507\u001b[0m \u001b[38;5;28;01melse\u001b[39;00m:\n\u001b[1;32m   1508\u001b[0m   outputs \u001b[38;5;241m=\u001b[39m execute\u001b[38;5;241m.\u001b[39mexecute_with_cancellation(\n\u001b[1;32m   1509\u001b[0m       name\u001b[38;5;241m.\u001b[39mdecode(\u001b[38;5;124m\"\u001b[39m\u001b[38;5;124mutf-8\u001b[39m\u001b[38;5;124m\"\u001b[39m),\n\u001b[1;32m   1510\u001b[0m       num_outputs\u001b[38;5;241m=\u001b[39mnum_outputs,\n\u001b[0;32m   (...)\u001b[0m\n\u001b[1;32m   1514\u001b[0m       cancellation_manager\u001b[38;5;241m=\u001b[39mcancellation_context,\n\u001b[1;32m   1515\u001b[0m   )\n",
            "File \u001b[0;32m~/Library/Python/3.9/lib/python/site-packages/tensorflow/python/eager/execute.py:53\u001b[0m, in \u001b[0;36mquick_execute\u001b[0;34m(op_name, num_outputs, inputs, attrs, ctx, name)\u001b[0m\n\u001b[1;32m     51\u001b[0m \u001b[38;5;28;01mtry\u001b[39;00m:\n\u001b[1;32m     52\u001b[0m   ctx\u001b[38;5;241m.\u001b[39mensure_initialized()\n\u001b[0;32m---> 53\u001b[0m   tensors \u001b[38;5;241m=\u001b[39m \u001b[43mpywrap_tfe\u001b[49m\u001b[38;5;241;43m.\u001b[39;49m\u001b[43mTFE_Py_Execute\u001b[49m\u001b[43m(\u001b[49m\u001b[43mctx\u001b[49m\u001b[38;5;241;43m.\u001b[39;49m\u001b[43m_handle\u001b[49m\u001b[43m,\u001b[49m\u001b[43m \u001b[49m\u001b[43mdevice_name\u001b[49m\u001b[43m,\u001b[49m\u001b[43m \u001b[49m\u001b[43mop_name\u001b[49m\u001b[43m,\u001b[49m\n\u001b[1;32m     54\u001b[0m \u001b[43m                                      \u001b[49m\u001b[43minputs\u001b[49m\u001b[43m,\u001b[49m\u001b[43m \u001b[49m\u001b[43mattrs\u001b[49m\u001b[43m,\u001b[49m\u001b[43m \u001b[49m\u001b[43mnum_outputs\u001b[49m\u001b[43m)\u001b[49m\n\u001b[1;32m     55\u001b[0m \u001b[38;5;28;01mexcept\u001b[39;00m core\u001b[38;5;241m.\u001b[39m_NotOkStatusException \u001b[38;5;28;01mas\u001b[39;00m e:\n\u001b[1;32m     56\u001b[0m   \u001b[38;5;28;01mif\u001b[39;00m name \u001b[38;5;129;01mis\u001b[39;00m \u001b[38;5;129;01mnot\u001b[39;00m \u001b[38;5;28;01mNone\u001b[39;00m:\n",
            "\u001b[0;31mKeyboardInterrupt\u001b[0m: "
          ]
        }
      ],
      "source": [
        "model = build_model(32, 4)\n",
        "model.compile(optimizer=tf.keras.optimizers.Adam(1e-4),  # Adjusted learning rate\n",
        "              loss=tf.keras.losses.MeanSquaredError(),\n",
        "              metrics=[tf.keras.metrics.MeanAbsoluteError()])\n",
        "\n",
        "checkpoint_filepath = '/tmp/checkpoint/model.keras'\n",
        "model_checkpointing_callback = ModelCheckpoint(\n",
        "    filepath=checkpoint_filepath,\n",
        "    save_best_only=True,\n",
        ")\n",
        "\n",
        "history = model.fit(x_train, y_train,\n",
        "                    batch_size=64,  # Adjusted batch size\n",
        "                    epochs=1000,\n",
        "                    verbose=1,\n",
        "                    validation_data=(x_test, y_test),\n",
        "                    callbacks=[ReduceLROnPlateau(monitor='val_loss', patience=10),\n",
        "                               EarlyStopping(monitor='val_loss', patience=15, min_delta=1e-4),\n",
        "                               model_checkpointing_callback])\n",
        "\n",
        "loss, mae = model.evaluate(x_test, y_test)\n",
        "print(f'Test Loss: {loss}')\n",
        "print(f'Test MAE: {mae}')\n",
        "model.save('model.h5')"
      ]
    },
    {
      "cell_type": "code",
      "execution_count": 88,
      "metadata": {
        "id": "lhes6JyCtTkA"
      },
      "outputs": [
        {
          "name": "stdout",
          "output_type": "stream",
          "text": [
            "\u001b[1m625/625\u001b[0m \u001b[32m━━━━━━━━━━━━━━━━━━━━\u001b[0m\u001b[37m\u001b[0m \u001b[1m6s\u001b[0m 9ms/step\n",
            "Accuracy: 0.069\n"
          ]
        },
        {
          "name": "stderr",
          "output_type": "stream",
          "text": [
            "WARNING:absl:Compiled the loaded model, but the compiled metrics have yet to be built. `model.compile_metrics` will be empty until you train or evaluate the model.\n"
          ]
        }
      ],
      "source": [
        "y_pred = model.predict(x_test)\n",
        "\n",
        "# Calculate the accuracy with a threshold of 0.2\n",
        "threshold = 0.2\n",
        "correct_predictions = np.abs(y_pred.flatten() - y_test) <= threshold\n",
        "accuracy = np.mean(correct_predictions)\n",
        "\n",
        "print(f'Accuracy: {accuracy}')\n",
        "\n",
        "from tensorflow.keras import models\n",
        "model = models.load_model('model.h5')"
      ]
    },
    {
      "cell_type": "code",
      "execution_count": 67,
      "metadata": {
        "id": "Zfj5hsgFtRgs"
      },
      "outputs": [],
      "source": [
        "# used for the minimax algorithm\n",
        "def minimax_eval(board):\n",
        "  board3d = split_dims(board)\n",
        "  board3d = numpy.expand_dims(board3d, 0)\n",
        "  return model(board3d)[0][0]\n",
        "\n",
        "\n",
        "def minimax(board, depth, alpha, beta, maximizing_player):\n",
        "  if depth == 0 or board.is_game_over():\n",
        "    return minimax_eval(board)\n",
        "\n",
        "  if maximizing_player:\n",
        "    max_eval = -numpy.inf\n",
        "    for move in board.legal_moves:\n",
        "      board.push(move)\n",
        "      eval = minimax(board, depth - 1, alpha, beta, False)\n",
        "      board.pop()\n",
        "      max_eval = max(max_eval, eval)\n",
        "      alpha = max(alpha, eval)\n",
        "      if beta <= alpha:\n",
        "        break\n",
        "    return max_eval\n",
        "  else:\n",
        "    min_eval = numpy.inf\n",
        "    for move in board.legal_moves:\n",
        "      board.push(move)\n",
        "      eval = minimax(board, depth - 1, alpha, beta, True)\n",
        "      board.pop()\n",
        "      min_eval = min(min_eval, eval)\n",
        "      beta = min(beta, eval)\n",
        "      if beta <= alpha:\n",
        "        break\n",
        "    return min_eval\n",
        "\n",
        "\n",
        "# this is the actual function that gets the move from the neural network\n",
        "def get_ai_move(board, depth):\n",
        "  max_move = None\n",
        "  max_eval = -numpy.inf\n",
        "\n",
        "  for move in board.legal_moves:\n",
        "    board.push(move)\n",
        "    eval = minimax(board, depth - 1, -numpy.inf, numpy.inf, False)\n",
        "    board.pop()\n",
        "    if eval > max_eval:\n",
        "      max_eval = eval\n",
        "      max_move = move\n",
        "\n",
        "  return max_move"
      ]
    },
    {
      "cell_type": "code",
      "execution_count": 68,
      "metadata": {
        "colab": {
          "base_uri": "https://localhost:8080/",
          "height": 400
        },
        "id": "orxEmGccthE6",
        "outputId": "6fe498b2-1b7c-44d7-e147-17fe144187b9"
      },
      "outputs": [
        {
          "name": "stdout",
          "output_type": "stream",
          "text": [
            "f1f5\n",
            "\n",
            "r . b . . r k .\n",
            "p . p . . p p p\n",
            "p . n p . . . .\n",
            ". . . . p R . .\n",
            ". . . . P . . q\n",
            ". . N . . . . .\n",
            "P P P P . . n .\n",
            "R . B K . . b .\n",
            "\n",
            "r . b . . r k .\n",
            "p . p . . p p p\n",
            "p . n p . . . .\n",
            ". . . . p R . .\n",
            ". . . . P . . .\n",
            ". . N . . . . .\n",
            "P P P P . . n .\n",
            "R . B K q . b .\n",
            "game_over\n"
          ]
        }
      ],
      "source": [
        "# Testing code AI(white) vs Stockfish(black)\n",
        "board = chess.Board()\n",
        "from IPython.display import clear_output\n",
        "\n",
        "with chess.engine.SimpleEngine.popen_uci('./stockfish') as engine:\n",
        "    while True:\n",
        "        clear_output(wait=True)\n",
        "        move = get_ai_move(board, 1)\n",
        "        board.push(move)\n",
        "        print(move)\n",
        "        print(f'\\n{board}')\n",
        "        if board.is_game_over():\n",
        "            print('game_over')\n",
        "            break\n",
        "        move = engine.analyse(board, chess.engine.Limit(time=0.1), info=chess.engine.INFO_PV)['pv'][0]\n",
        "        board.push(move)\n",
        "        print(f'\\n{board}')\n",
        "        if board.is_game_over():\n",
        "            print('game_over')\n",
        "            break"
      ]
    },
    {
      "cell_type": "code",
      "execution_count": 69,
      "metadata": {
        "colab": {
          "base_uri": "https://localhost:8080/",
          "height": 400
        },
        "id": "vR5DpIf_tn4m",
        "outputId": "1aca6786-733d-413e-fe62-b2ac0d51b167"
      },
      "outputs": [
        {
          "name": "stdout",
          "output_type": "stream",
          "text": [
            "\n",
            "r n b q k b n r\n",
            "p p p p p p p p\n",
            ". . . . . . . .\n",
            ". . . . . . . .\n",
            ". . . . P . . .\n",
            ". . . . . . . .\n",
            "P P P P . P P P\n",
            "R N B Q K B N R\n",
            "\n",
            "r n b q k b n r\n",
            "p p p p . p p p\n",
            ". . . . . . . .\n",
            ". . . . p . . .\n",
            ". . . . P . . .\n",
            ". . . . . . . .\n",
            "P P P P . P P P\n",
            "R N B Q K B N R\n",
            "\n",
            "r n b q k b n r\n",
            "p p p p . p p p\n",
            ". . . . . . . .\n",
            ". . . . p . . Q\n",
            ". . . . P . . .\n",
            ". . . . . . . .\n",
            "P P P P . P P P\n",
            "R N B . K B N R\n",
            "\n",
            "r . b q k b n r\n",
            "p p p p . p p p\n",
            ". . n . . . . .\n",
            ". . . . p . . Q\n",
            ". . . . P . . .\n",
            ". . . . . . . .\n",
            "P P P P . P P P\n",
            "R N B . K B N R\n",
            "\n",
            "r . b q k b n r\n",
            "p p p p . p p p\n",
            ". . n . . . . .\n",
            ". . . . p . . Q\n",
            ". . . . P . . .\n",
            ". . . . . . . .\n",
            "P P P P . P P P\n",
            "R N B K . B N R\n",
            "\n",
            "r . b q k b . r\n",
            "p p p p . p p p\n",
            ". . n . . n . .\n",
            ". . . . p . . Q\n",
            ". . . . P . . .\n",
            ". . . . . . . .\n",
            "P P P P . P P P\n",
            "R N B K . B N R\n",
            "\n",
            "r . b q k b . r\n",
            "p p p p . p p p\n",
            ". . n . . n . .\n",
            ". . . . p . . Q\n",
            ". . . . P . . .\n",
            ". . . . . P . .\n",
            "P P P P . . P P\n",
            "R N B K . B N R\n",
            "\n",
            "r . b q k b . r\n",
            "p p p p . p p p\n",
            ". . n . . . . .\n",
            ". . . . p . . n\n",
            ". . . . P . . .\n",
            ". . . . . P . .\n",
            "P P P P . . P P\n",
            "R N B K . B N R\n",
            "\n",
            "r . b q k b . r\n",
            "p p p p . p p p\n",
            ". . n . . . . .\n",
            ". . . . p . . n\n",
            ". . . . P P . .\n",
            ". . . . . . . .\n",
            "P P P P . . P P\n",
            "R N B K . B N R\n",
            "\n",
            "r . b q k b . r\n",
            "p p p p . p p p\n",
            ". . n . . . . .\n",
            ". . . . p . . .\n",
            ". . . . P n . .\n",
            ". . . . . . . .\n",
            "P P P P . . P P\n",
            "R N B K . B N R\n",
            "\n",
            "r . b q k b . r\n",
            "p p p p . p p p\n",
            ". . n . . . . .\n",
            ". . . . p . . .\n",
            ". . . . P n . .\n",
            ". . . . . . . .\n",
            "P P P P B . P P\n",
            "R N B K . . N R\n",
            "\n",
            "r . b q k b . r\n",
            "p p p p . p p p\n",
            ". . n . . . . .\n",
            ". . . . p . . .\n",
            ". . . . P . . .\n",
            ". . . . . . . .\n",
            "P P P P B . n P\n",
            "R N B K . . N R\n",
            "\n",
            "r . b q k b . r\n",
            "p p p p . p p p\n",
            "B . n . . . . .\n",
            ". . . . p . . .\n",
            ". . . . P . . .\n",
            ". . . . . . . .\n",
            "P P P P . . n P\n",
            "R N B K . . N R\n",
            "\n",
            "r . b q k b . r\n",
            "p . p p . p p p\n",
            "p . n . . . . .\n",
            ". . . . p . . .\n",
            ". . . . P . . .\n",
            ". . . . . . . .\n",
            "P P P P . . n P\n",
            "R N B K . . N R\n",
            "\n",
            "r . b q k b . r\n",
            "p . p p . p p p\n",
            "p . n . . . . .\n",
            ". . . . p . . .\n",
            ". . . . P . . .\n",
            ". . . . . . . .\n",
            "P P P P N . n P\n",
            "R N B K . . . R\n",
            "\n",
            "r . b . k b . r\n",
            "p . p p . p p p\n",
            "p . n . . q . .\n",
            ". . . . p . . .\n",
            ". . . . P . . .\n",
            ". . . . . . . .\n",
            "P P P P N . n P\n",
            "R N B K . . . R\n",
            "\n",
            "r . b . k b . r\n",
            "p . p p . p p p\n",
            "p . n . . q . .\n",
            ". . . . p . . .\n",
            ". . . . P . . .\n",
            ". . . . . . . .\n",
            "P P P P N . n P\n",
            "R N B K . R . .\n",
            "\n",
            "r . b . k b . r\n",
            "p . p p . p p p\n",
            "p . n . . . . .\n",
            ". . . . p . . .\n",
            ". . . . P . . .\n",
            ". . . . . . . .\n",
            "P P P P N . n P\n",
            "R N B K . q . .\n",
            "game_over\n"
          ]
        }
      ],
      "source": [
        "# Move by move testing code AI(white) vs Stockfish(black)\n",
        "import os\n",
        "import chess.engine\n",
        "\n",
        "# Get the absolute path to the stockfish executable\n",
        "stockfish_path = os.path.abspath('./stockfish')\n",
        "\n",
        "board = chess.Board()\n",
        "\n",
        "with chess.engine.SimpleEngine.popen_uci(stockfish_path) as engine:\n",
        "    while True:\n",
        "        move = get_ai_move(board, 1)\n",
        "        board.push(move)\n",
        "        print(f'\\n{board}')\n",
        "        if board.is_game_over():\n",
        "            print('game_over')\n",
        "            break\n",
        "        move = engine.analyse(board, chess.engine.Limit(time=1), info=chess.engine.INFO_PV)['pv'][0]\n",
        "        board.push(move)\n",
        "        print(f'\\n{board}')\n",
        "        if board.is_game_over():\n",
        "            print('game_over')\n",
        "            break"
      ]
    },
    {
      "cell_type": "code",
      "execution_count": 70,
      "metadata": {
        "id": "PHnekZ9ItoyJ"
      },
      "outputs": [
        {
          "name": "stdout",
          "output_type": "stream",
          "text": [
            "e2e4\n",
            "\n",
            "r n b q k b n r\n",
            "p p p p p p p p\n",
            ". . . . . . . .\n",
            ". . . . . . . .\n",
            ". . . . P . . .\n",
            ". . . . . . . .\n",
            "P P P P . P P P\n",
            "R N B Q K B N R\n"
          ]
        },
        {
          "ename": "InvalidMoveError",
          "evalue": "expected uci string to be of length 4 or 5: ''",
          "output_type": "error",
          "traceback": [
            "\u001b[0;31m---------------------------------------------------------------------------\u001b[0m",
            "\u001b[0;31mInvalidMoveError\u001b[0m                          Traceback (most recent call last)",
            "Cell \u001b[0;32mIn[70], line 15\u001b[0m\n\u001b[1;32m     13\u001b[0m     \u001b[38;5;28;01mbreak\u001b[39;00m\n\u001b[1;32m     14\u001b[0m input_var \u001b[38;5;241m=\u001b[39m \u001b[38;5;28minput\u001b[39m()\n\u001b[0;32m---> 15\u001b[0m move \u001b[38;5;241m=\u001b[39m \u001b[43mchess\u001b[49m\u001b[38;5;241;43m.\u001b[39;49m\u001b[43mMove\u001b[49m\u001b[38;5;241;43m.\u001b[39;49m\u001b[43mfrom_uci\u001b[49m\u001b[43m(\u001b[49m\u001b[43minput_var\u001b[49m\u001b[43m)\u001b[49m\n\u001b[1;32m     16\u001b[0m board\u001b[38;5;241m.\u001b[39mpush(move)\n\u001b[1;32m     17\u001b[0m \u001b[38;5;28mprint\u001b[39m(move)\n",
            "File \u001b[0;32m~/Library/Python/3.9/lib/python/site-packages/chess/__init__.py:612\u001b[0m, in \u001b[0;36mMove.from_uci\u001b[0;34m(cls, uci)\u001b[0m\n\u001b[1;32m    610\u001b[0m     \u001b[38;5;28;01mreturn\u001b[39;00m \u001b[38;5;28mcls\u001b[39m(from_square, to_square, promotion\u001b[38;5;241m=\u001b[39mpromotion)\n\u001b[1;32m    611\u001b[0m \u001b[38;5;28;01melse\u001b[39;00m:\n\u001b[0;32m--> 612\u001b[0m     \u001b[38;5;28;01mraise\u001b[39;00m InvalidMoveError(\u001b[38;5;124mf\u001b[39m\u001b[38;5;124m\"\u001b[39m\u001b[38;5;124mexpected uci string to be of length 4 or 5: \u001b[39m\u001b[38;5;132;01m{\u001b[39;00muci\u001b[38;5;132;01m!r}\u001b[39;00m\u001b[38;5;124m\"\u001b[39m)\n",
            "\u001b[0;31mInvalidMoveError\u001b[0m: expected uci string to be of length 4 or 5: ''"
          ]
        }
      ],
      "source": [
        "board = chess.Board()\n",
        "from IPython.display import clear_output\n",
        "\n",
        "with chess.engine.SimpleEngine.popen_uci('./stockfish') as engine:\n",
        "    while True:\n",
        "        clear_output(wait=True)\n",
        "        move = get_ai_move(board, 1)\n",
        "        board.push(move)\n",
        "        print(move)\n",
        "        print(f'\\n{board}')\n",
        "        if board.is_game_over():\n",
        "            print('game_over')\n",
        "            break\n",
        "        input_var = input()\n",
        "        move = chess.Move.from_uci(input_var)\n",
        "        board.push(move)\n",
        "        print(move)\n",
        "        print(f'\\n{board}')\n",
        "        if board.is_game_over():\n",
        "            print('game_over')\n",
        "            break"
      ]
    }
  ],
  "metadata": {
    "accelerator": "GPU",
    "colab": {
      "gpuType": "T4",
      "provenance": []
    },
    "kernelspec": {
      "display_name": "Python 3",
      "name": "python3"
    },
    "language_info": {
      "codemirror_mode": {
        "name": "ipython",
        "version": 3
      },
      "file_extension": ".py",
      "mimetype": "text/x-python",
      "name": "python",
      "nbconvert_exporter": "python",
      "pygments_lexer": "ipython3",
      "version": "3.9.6"
    }
  },
  "nbformat": 4,
  "nbformat_minor": 0
}
